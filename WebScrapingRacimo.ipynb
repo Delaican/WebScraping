{
 "cells": [
  {
   "cell_type": "code",
   "execution_count": 1,
   "id": "1827622e",
   "metadata": {},
   "outputs": [],
   "source": [
    "from selenium import webdriver\n",
    "from selenium.webdriver.common.by import By\n",
    "import time\n",
    "\n",
    "url = 'https://class.redclara.net/halley/moncora/intro.html'\n",
    "\n",
    "driver = webdriver.Firefox()\n",
    "driver.get(url)\n",
    "time.sleep(5)\n",
    "\n",
    "#div = driver.find_element(By.CLASS_NAME,'simple')\n",
    "\n",
    "#estaciones = div.text.split(\"\\n\")\n",
    "#print(estaciones)\n",
    "\n",
    "urls = []\n",
    "results = driver.find_elements(By.CLASS_NAME,'reference.external')\n",
    "for a in results[-5:-2]:\n",
    "    urls.append(a.get_attribute('href'))\n",
    "driver.close()"
   ]
  },
  {
   "cell_type": "code",
   "execution_count": null,
   "id": "88d6c7c5",
   "metadata": {},
   "outputs": [],
   "source": [
    "# pm25 = []\n",
    "# fechas = []\n",
    "# for url in urls[:-1]:\n",
    "#     driver = webdriver.Firefox()\n",
    "#     driver.get(url)\n",
    "#     time.sleep(6)\n",
    "#     dato = driver.find_element(By.CLASS_NAME,'PM25.ng-binding')\n",
    "#     fecha = driver.find_element(By.CLASS_NAME,'fecha.ng-binding')\n",
    "#     pm25.append(dato.text)\n",
    "#     fechas.append(fecha.text)\n",
    "#     driver.close()"
   ]
  },
  {
   "cell_type": "code",
   "execution_count": null,
   "id": "3b025ab7",
   "metadata": {},
   "outputs": [],
   "source": [
    "# import pandas as pd\n",
    "\n",
    "# d = {'Estacion': estaciones, 'PM25': pm25, 'Fecha': fechas}\n",
    "\n",
    "# df = pd.DataFrame(data=d)\n",
    "\n",
    "# df.head()"
   ]
  },
  {
   "cell_type": "markdown",
   "id": "49c7fdc6",
   "metadata": {},
   "source": [
    "### Download CSV"
   ]
  },
  {
   "cell_type": "code",
   "execution_count": 2,
   "id": "39432bab",
   "metadata": {},
   "outputs": [],
   "source": [
    "import os\n",
    "import glob\n",
    "\n",
    "for url in urls:\n",
    "    driver = webdriver.Firefox()\n",
    "    driver.get(url)\n",
    "    time.sleep(7) # Tiempo de carga de la página. varía según la conexión a internet\n",
    "    name = driver.find_element(By.CLASS_NAME,'text-lg.text-ellipsis.ng-binding').text\n",
    "#     try:\n",
    "#         toast = driver.find_element(By.CLASS_NAME,'toast-close-button')\n",
    "#         toast.click()\n",
    "#         time.sleep(1)\n",
    "#     except:\n",
    "#         pass\n",
    "#     dropdown = driver.find_element(By.XPATH,\"//button[contains(text(), 'Last 2 days')]\")\n",
    "#     dropdown.click()\n",
    "#     result = driver.find_element(By.XPATH,\"\"\"//a[@ng-click=\"onRelativeSelection(24, 'hour')\"]\"\"\")\n",
    "#     result.click()\n",
    "#     dropdown = driver.find_element(By.XPATH,\"//span[contains(text(), '30m')]\")\n",
    "#     dropdown.click()\n",
    "#     result = driver.find_element(By.XPATH,\"//a[contains(text(), '1 min')]\")\n",
    "#     result.click()\n",
    "#     time.sleep(2)\n",
    "    try:\n",
    "        result = driver.find_elements(By.CLASS_NAME,'apexcharts-menu-item.exportCSV')\n",
    "        driver.execute_script(\"arguments[0].click();\", result[1])\n",
    "        time.sleep(5)\n",
    "        driver.close()\n",
    "        os.rename(glob.glob('/home/kevin/Descargas/*.csv')[0],'/home/kevin/Repos/BotAir/data/'+name+\".csv\")\n",
    "    except:\n",
    "        print(name+\" no se pudo descargar\")\n",
    "        driver.close()"
   ]
  },
  {
   "cell_type": "code",
   "execution_count": null,
   "id": "5d341f05",
   "metadata": {},
   "outputs": [],
   "source": []
  }
 ],
 "metadata": {
  "kernelspec": {
   "display_name": "Python 3 (ipykernel)",
   "language": "python",
   "name": "python3"
  },
  "language_info": {
   "codemirror_mode": {
    "name": "ipython",
    "version": 3
   },
   "file_extension": ".py",
   "mimetype": "text/x-python",
   "name": "python",
   "nbconvert_exporter": "python",
   "pygments_lexer": "ipython3",
   "version": "3.11.4"
  }
 },
 "nbformat": 4,
 "nbformat_minor": 5
}
